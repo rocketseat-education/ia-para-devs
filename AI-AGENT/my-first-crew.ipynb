{
 "cells": [
  {
   "cell_type": "markdown",
   "metadata": {},
   "source": [
    "## Usando arquivo .env para controlar variaveis de ambiente\n",
    "Para evitar exposição da chave `OPENAI_API_KEY` optei por utilizar arquivo `.env` com a informação da chave.\n",
    "\n",
    "Para seguir o mesmo método basta criar um arquivo `.env` no mesmo diretório do arquivo `my-first-crew.ipynb`.\n",
    "A importação da chave será feita através da célula abaixo que faz a instalação de um biblioteca para carregar\n",
    "os valores do arquivo `.env`."
   ]
  },
  {
   "cell_type": "code",
   "execution_count": 17,
   "metadata": {},
   "outputs": [],
   "source": [
    "%%capture\n",
    "%pip install python-dotenv\n",
    "import dotenv\n",
    "%load_ext dotenv\n",
    "%dotenv"
   ]
  },
  {
   "cell_type": "code",
   "execution_count": 18,
   "metadata": {},
   "outputs": [],
   "source": [
    "%%capture\n",
    "!pip install crewai==0.28.8 crewai-tools==0.1.6 langchain-community==0.0.29"
   ]
  },
  {
   "cell_type": "code",
   "execution_count": 19,
   "metadata": {},
   "outputs": [],
   "source": [
    "from crewai import Agent, Task, Crew\n"
   ]
  },
  {
   "cell_type": "code",
   "execution_count": 20,
   "metadata": {},
   "outputs": [],
   "source": [
    "import os\n",
    "os.environ['OPENAI_MODEL_NAME'] = \"gpt-3.5-turbo\""
   ]
  },
  {
   "cell_type": "markdown",
   "metadata": {},
   "source": [
    "# Grupo de agente para escrever artigos\n",
    "\n",
    "1. Planner - Planejador do artigo\n",
    "2. Writer - Escrito do artigo\n",
    "3. Editor - Editor do artigo"
   ]
  },
  {
   "cell_type": "code",
   "execution_count": 21,
   "metadata": {},
   "outputs": [],
   "source": [
    "planner = Agent(\n",
    "    role=\"Content Planner\",\n",
    "    goal=\"Plan engaging content about the {topic}\",\n",
    "    backstory=\"\"\"You're working on planning a blog post article about\n",
    "    the topic: {topic}.\n",
    "    You collect information that helps the audience learn something\n",
    "    and mak informed decisions.\n",
    "    Your work is the basics for the Content Writer to write article on this topic.\n",
    "    \"\"\",\n",
    "    allow_delegation=False,\n",
    "    verbose=True,\n",
    ")"
   ]
  },
  {
   "cell_type": "code",
   "execution_count": 22,
   "metadata": {},
   "outputs": [],
   "source": [
    "writer = Agent(\n",
    "    role=\"Content Writer\",\n",
    "    goal=\"Write insightfull and factually accurate opinion piece about the topic: {topic}\",\n",
    "    backstory=\"\"\"You're working on writing and opinion about the topic: {topic}.\n",
    "    You base your opinion on the work of the Conntent Planner, who provides an outline and relevant context\n",
    "    about the topic. You follow the main objectives and direction of the outline, as provided by the Content Planner.\n",
    "    You also provide objective and impartial insights and back them with information provided the Content Planner.\n",
    "    \"\"\",\n",
    "    allow_delegation=False,\n",
    "    verbose=True,\n",
    ")"
   ]
  },
  {
   "cell_type": "code",
   "execution_count": 23,
   "metadata": {},
   "outputs": [],
   "source": [
    "editor = Agent(\n",
    "    role=\"Editor\",\n",
    "    goal=\"Edit a given blog post article to align with writing style of the organization.\",\n",
    "    backstory=\"\"\"You're are a editor that receives a blog post from the Content Writer.\n",
    "    Your goal is to review the blog post to ensure that it follow a journalistic best practices.\n",
    "    \"\"\",\n",
    "    allow_delegation=False,\n",
    "    verbose=True,\n",
    ")"
   ]
  },
  {
   "cell_type": "code",
   "execution_count": 24,
   "metadata": {},
   "outputs": [],
   "source": [
    "plan = Task(\n",
    "    description=(\n",
    "        \"1. Prioritaze the last trends, key players, and noteworthy news on {topic}\"\n",
    "        \"2. Identify the target audience, considering their interests and pain points.\"\n",
    "        \"3. Develop a detaild content outline including an introduction, key points, and call to action.\"\n",
    "        \"4. Include SEO keyword and relevant data or sources.\"\n",
    "    ),\n",
    "    expected_output=\"A comprehensive content plan document with an outline, audience analysis, SEO keywords and resources\",\n",
    "    agent=planner,\n",
    ")"
   ]
  },
  {
   "cell_type": "code",
   "execution_count": 25,
   "metadata": {},
   "outputs": [],
   "source": [
    "write = Task(\n",
    "    description=(\n",
    "        \"1. Use the content plan to craft a compelling blog post on topic: {topic}.\"\n",
    "        \"2. Incorporate the SEO keyword naturally.\"\n",
    "        \"3. Sections/Subtitles are properly named in engaging manner.\"\n",
    "        \"4. Ensure the post is scructured with and engaging introduction, insightfull body and summarization conclusion.\"\n",
    "    ),\n",
    "    expected_output=\"A well-writen blog post in Markdown format, ready for publication, each section should have 2 or 3 paragraphs\",\n",
    "    agent=writer,\n",
    ")"
   ]
  },
  {
   "cell_type": "code",
   "execution_count": 26,
   "metadata": {},
   "outputs": [],
   "source": [
    "edit = Task(\n",
    "    description=\"Proofread the given blog post for grammatical errors and aligment with the brand's voices.\",\n",
    "    expected_output=\"A well-writen blog post in Markdown format, ready for publication, each section should have 2 or 3 paragraphs\",\n",
    "    agent=editor,\n",
    ")"
   ]
  }
 ],
 "metadata": {
  "kernelspec": {
   "display_name": "venv",
   "language": "python",
   "name": "python3"
  },
  "language_info": {
   "codemirror_mode": {
    "name": "ipython",
    "version": 3
   },
   "file_extension": ".py",
   "mimetype": "text/x-python",
   "name": "python",
   "nbconvert_exporter": "python",
   "pygments_lexer": "ipython3",
   "version": "3.12.6"
  }
 },
 "nbformat": 4,
 "nbformat_minor": 2
}
