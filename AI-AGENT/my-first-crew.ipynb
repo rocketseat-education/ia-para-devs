{
 "cells": [
  {
   "cell_type": "markdown",
   "metadata": {},
   "source": [
    "## Usando arquivo .env para controlar variaveis de ambiente\n",
    "Para evitar exposição da chave `OPENAI_API_KEY` optei por utilizar arquivo `.env` com a informação da chave.\n",
    "\n",
    "Para seguir o mesmo método basta criar um arquivo `.env` no mesmo diretório do arquivo `my-first-crew.ipynb`.\n",
    "A importação da chave será feita através da célula abaixo que faz a instalação de um biblioteca para carregar\n",
    "os valores do arquivo `.env`."
   ]
  },
  {
   "cell_type": "code",
   "execution_count": 4,
   "metadata": {},
   "outputs": [],
   "source": [
    "%%capture\n",
    "%pip install python-dotenv\n",
    "import dotenv\n",
    "%load_ext dotenv\n",
    "%dotenv"
   ]
  },
  {
   "cell_type": "code",
   "execution_count": 1,
   "metadata": {},
   "outputs": [],
   "source": [
    "%%capture\n",
    "!pip install crewai==0.28.8 crewai-tools==0.1.6 langchain-community==0.0.29"
   ]
  },
  {
   "cell_type": "code",
   "execution_count": 2,
   "metadata": {},
   "outputs": [
    {
     "name": "stderr",
     "output_type": "stream",
     "text": [
      "/home/vitor-linux/rockeatseat/IA para devs/AI-AGENT/venv/lib/python3.12/site-packages/pydantic/_internal/_generate_schema.py:775: UserWarning: Mixing V1 models and V2 models (or constructs, like `TypeAdapter`) is not supported. Please upgrade `CrewAgentExecutor` to V2.\n",
      "  warn(\n"
     ]
    }
   ],
   "source": [
    "from crewai import Agent, Task, Crew\n"
   ]
  },
  {
   "cell_type": "code",
   "execution_count": 3,
   "metadata": {},
   "outputs": [],
   "source": [
    "import os\n",
    "os.environ['OPENAI_MODEL_NAME'] = \"gpt-3.5-turbo\""
   ]
  },
  {
   "cell_type": "markdown",
   "metadata": {},
   "source": [
    "# Grupo de agente para escrever artigos\n",
    "\n",
    "1. Planner - Planejador do artigo\n",
    "2. Writer - Escrito do artigo\n",
    "3. Editor - Editor do artigo"
   ]
  },
  {
   "cell_type": "code",
   "execution_count": 5,
   "metadata": {},
   "outputs": [],
   "source": [
    "planner = Agent(\n",
    "    role=\"Content Planner\",\n",
    "    goal=\"Plan engaging content about the {topic}\",\n",
    "    backstory=\"\"\"You're working on planning a blog post article about\n",
    "    the topic: {topic}.\n",
    "    You collect information that helps the audience learn something\n",
    "    and mak informed decisions.\n",
    "    Your work is the basics for the Content Writer to write article on this topic.\n",
    "    \"\"\",\n",
    "    allow_delegation=False,\n",
    "    verbose=True,\n",
    ")"
   ]
  },
  {
   "cell_type": "code",
   "execution_count": 6,
   "metadata": {},
   "outputs": [],
   "source": [
    "writer = Agent(\n",
    "    role=\"Content Writer\",\n",
    "    goal=\"Write insightfull and factually accurate opinion piece about the topic: {topic}\",\n",
    "    backstory=\"\"\"You're working on writing and opinion about the topic: {topic}.\n",
    "    You base your opinion on the work of the Conntent Planner, who provides an outline and relevant context\n",
    "    about the topic. You follow the main objectives and direction of the outline, as provided by the Content Planner.\n",
    "    You also provide objective and impartial insights and back them with information provided the Content Planner.\n",
    "    \"\"\",\n",
    "    allow_delegation=False,\n",
    "    verbose=True,\n",
    ")"
   ]
  },
  {
   "cell_type": "code",
   "execution_count": 7,
   "metadata": {},
   "outputs": [],
   "source": [
    "editor = Agent(\n",
    "    role=\"Editor\",\n",
    "    goal=\"Edit a given blog post article to align with writing style of the organization.\",\n",
    "    backstory=\"\"\"You're are a editor that receives a blog post from the Content Writer.\n",
    "    Your goal is to review the blog post to ensure that it follow a journalistic best practices.\n",
    "    \"\"\",\n",
    "    allow_delegation=False,\n",
    "    verbose=True,\n",
    ")"
   ]
  }
 ],
 "metadata": {
  "kernelspec": {
   "display_name": "venv",
   "language": "python",
   "name": "python3"
  },
  "language_info": {
   "codemirror_mode": {
    "name": "ipython",
    "version": 3
   },
   "file_extension": ".py",
   "mimetype": "text/x-python",
   "name": "python",
   "nbconvert_exporter": "python",
   "pygments_lexer": "ipython3",
   "version": "3.12.6"
  }
 },
 "nbformat": 4,
 "nbformat_minor": 2
}
