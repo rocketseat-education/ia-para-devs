{
 "cells": [
  {
   "cell_type": "markdown",
   "metadata": {},
   "source": [
    "## Usando arquivo .env para controlar variaveis de ambiente\n",
    "Para evitar exposição da chave `OPENAI_API_KEY` optei por utilizar arquivo `.env` com a informação da chave.\n",
    "\n",
    "Para seguir o mesmo método basta criar um arquivo `.env` no mesmo diretório do arquivo `Solucao RAG.ipynb`.\n",
    "A importação da chave será feita através da célula abaixo que faz a instalação de um biblioteca para carregar\n",
    "os valores do arquivo `.env`."
   ]
  },
  {
   "cell_type": "code",
   "execution_count": 1,
   "metadata": {},
   "outputs": [
    {
     "name": "stdout",
     "output_type": "stream",
     "text": [
      "Requirement already satisfied: python-dotenv in ./venv/lib/python3.12/site-packages (1.0.1)\n",
      "\n",
      "\u001b[1m[\u001b[0m\u001b[34;49mnotice\u001b[0m\u001b[1;39;49m]\u001b[0m\u001b[39;49m A new release of pip is available: \u001b[0m\u001b[31;49m24.2\u001b[0m\u001b[39;49m -> \u001b[0m\u001b[32;49m24.3.1\u001b[0m\n",
      "\u001b[1m[\u001b[0m\u001b[34;49mnotice\u001b[0m\u001b[1;39;49m]\u001b[0m\u001b[39;49m To update, run: \u001b[0m\u001b[32;49mpip install --upgrade pip\u001b[0m\n",
      "Note: you may need to restart the kernel to use updated packages.\n"
     ]
    }
   ],
   "source": [
    "%pip install python-dotenv\n",
    "import dotenv\n",
    "%load_ext dotenv\n",
    "%dotenv"
   ]
  },
  {
   "cell_type": "code",
   "execution_count": 2,
   "metadata": {},
   "outputs": [],
   "source": [
    "from langchain_text_splitters import RecursiveCharacterTextSplitter\n",
    "from langchain_openai import OpenAIEmbeddings\n",
    "from langchain_openai import ChatOpenAI\n",
    "from langchain_community.vectorstores import Chroma\n",
    "from langchain_community.document_loaders import PyPDFLoader\n",
    "from langchain.chains.question_answering import load_qa_chain"
   ]
  },
  {
   "cell_type": "code",
   "execution_count": 3,
   "metadata": {},
   "outputs": [],
   "source": [
    "# Load dos modelos (Embeddings e LLM)\n",
    "embeddings_model = OpenAIEmbeddings()\n",
    "llm = ChatOpenAI(\n",
    "    model_name=\"gpt-3.5-turbo\",\n",
    "    max_tokens=200,\n",
    "    \n",
    ")"
   ]
  },
  {
   "cell_type": "code",
   "execution_count": 4,
   "metadata": {},
   "outputs": [],
   "source": [
    "# Carregar o PDF\n",
    "\n",
    "pdf_link = \"DOC-SF238339076816-20230503.pdf\"\n",
    "loader = PyPDFLoader(pdf_link, extract_images=False)\n",
    "pages = loader.load_and_split()\n"
   ]
  },
  {
   "cell_type": "code",
   "execution_count": 5,
   "metadata": {},
   "outputs": [],
   "source": [
    "# Separar em Chunks (Pedaços de documento)\n",
    "\n",
    "text_spliter = RecursiveCharacterTextSplitter(\n",
    "    chunk_size=4000,\n",
    "    chunk_overlap=20,\n",
    "    length_function=len,\n",
    "    add_start_index=True,\n",
    ")\n",
    "\n",
    "chunks = text_spliter.split_documents(pages)"
   ]
  },
  {
   "cell_type": "code",
   "execution_count": 6,
   "metadata": {},
   "outputs": [
    {
     "name": "stderr",
     "output_type": "stream",
     "text": [
      "/tmp/ipykernel_94346/2466923040.py:4: LangChainDeprecationWarning: Since Chroma 0.4.x the manual persistence method is no longer supported as docs are automatically persisted.\n",
      "  db.persist()\n"
     ]
    }
   ],
   "source": [
    "# Salvar no Vector DB - Chroma\n",
    "\n",
    "db = Chroma.from_documents(chunks, embedding=embeddings_model, persist_directory=\"text_index\")\n",
    "db.persist()\n"
   ]
  },
  {
   "cell_type": "code",
   "execution_count": 7,
   "metadata": {},
   "outputs": [
    {
     "name": "stderr",
     "output_type": "stream",
     "text": [
      "/tmp/ipykernel_94346/1100091879.py:3: LangChainDeprecationWarning: The class `Chroma` was deprecated in LangChain 0.2.9 and will be removed in 1.0. An updated version of the class exists in the :class:`~langchain-chroma package and should be used instead. To use it run `pip install -U :class:`~langchain-chroma` and import as `from :class:`~langchain_chroma import Chroma``.\n",
      "  vectordb = Chroma(persist_directory=\"text_index\", embedding_function=embeddings_model)\n",
      "/tmp/ipykernel_94346/1100091879.py:9: LangChainDeprecationWarning: This class is deprecated. See the following migration guides for replacements based on `chain_type`:\n",
      "stuff: https://python.langchain.com/docs/versions/migrating_chains/stuff_docs_chain\n",
      "map_reduce: https://python.langchain.com/docs/versions/migrating_chains/map_reduce_chain\n",
      "refine: https://python.langchain.com/docs/versions/migrating_chains/refine_chain\n",
      "map_rerank: https://python.langchain.com/docs/versions/migrating_chains/map_rerank_docs_chain\n",
      "\n",
      "See also guides on retrieval and question-answering here: https://python.langchain.com/docs/how_to/#qa-with-rag\n",
      "  chain = load_qa_chain(llm, chain_type=\"stuff\")\n"
     ]
    }
   ],
   "source": [
    "# Carregar DB\n",
    "\n",
    "vectordb = Chroma(persist_directory=\"text_index\", embedding_function=embeddings_model)\n",
    "\n",
    "# Load Retriever\n",
    "retriever = vectordb.as_retriever(search_kwargs={\"k\": 3})\n",
    "\n",
    "# Chain - Contrução da cadeira de prompt para chamada do LLM\n",
    "chain = load_qa_chain(llm, chain_type=\"stuff\")\n"
   ]
  },
  {
   "cell_type": "code",
   "execution_count": 17,
   "metadata": {},
   "outputs": [],
   "source": [
    "def ask(question):\n",
    "    context = retriever.get_relevant_documents(question)\n",
    "    answer = (chain({\"input_documents\": context, \"question\": question}, return_only_outputs=True))[\"output_text\"]\n",
    "    return answer, context\n"
   ]
  },
  {
   "cell_type": "code",
   "execution_count": 18,
   "metadata": {},
   "outputs": [
    {
     "name": "stdout",
     "output_type": "stream",
     "text": [
      "Answer:  Alguns dos principais pontos da Lei de Inteligência Artificial mencionada são:\n",
      "\n",
      "1. O desenvolvimento, fornecimento ou utilização de sistemas de inteligência artificial de risco excessivo pode resultar em multa e até na suspensão parcial ou total das atividades de uma pessoa jurídica.\n",
      "2. A obrigação de reparação integral do dano causado, independentemente das sanções aplicadas.\n",
      "3. A possibilidade de autorização para funcionamento de ambiente regulatório experimental para inovação em inteligência artificial (sandbox regulatório) para entidades que preencham os requisitos.\n",
      "4. As sanções administrativas serão aplicadas após procedimento que permita a ampla defesa e observando vários critérios, como gravidade da infração, boa-fé do infrator, reincidência, entre outros.\n",
      "5. A criação e manutenção de uma base de dados de inteligência artificial de\n"
     ]
    }
   ],
   "source": [
    "user_question = input(\"User: \")\n",
    "answer, context = ask(user_question)\n",
    "print(\"Answer: \", answer)"
   ]
  },
  {
   "cell_type": "code",
   "execution_count": 19,
   "metadata": {},
   "outputs": [
    {
     "name": "stdout",
     "output_type": "stream",
     "text": [
      "page_content='§ 3º O disposto neste artigo não substitui a aplicação de sanções \n",
      "administrativas, civis ou penais definidas na Lei nº 8.078, de 11 de setembro de \n",
      "1990, na Lei nº 13.709, de 14 de agosto de 2018, e em legislação específica. \n",
      "§ 4º No caso do desenvolvimento, fornecimento ou utilização de \n",
      "sistemas de inteligência artificial de risco excessivo haverá, no mínimo, \n",
      "aplicação de multa e, no caso de pessoa jurídica, a suspensão parcial ou total, \n",
      "provisória ou definitiva de suas atividades. \n",
      "§ 5º A aplicação das sanções previstas neste artigo não exclui, em \n",
      "qualquer hipótese, a obrigação da reparação integral do dano causado, nos \n",
      "termos do art. 27. \n",
      "Art. 37. A autoridade competente definirá, por meio de \n",
      "regulamento próprio, o procedimento de apuração e critérios de aplicação das \n",
      "sanções administrativas a infrações a esta Lei, que serão objeto de consulta \n",
      "pública, sem prejuízo das disposições do Decreto-Lei nº 4.657, de 4 de \n",
      "setembro de 1942, Lei nº 9.784, de 29 de janeiro de 1999, e demais disposições \n",
      "legais pertinentes. \n",
      "Parágrafo único. As metodologias a que se refere o caput deste \n",
      "artigo serão previamente publicadas e apresentarão objetivamente as formas e \n",
      "dosimetrias das sanções, que conterão fundamentação detalhada de todos os \n",
      "seus elementos, demonstrando a observância dos critérios previstos nesta Lei. \n",
      "Seção III \n",
      "Medidas para fomentar a inovação \n",
      "Art. 38. A autoridade competente poderá autorizar o \n",
      "funcionamento de ambiente regulatório experimental para inovação em \n",
      "inteligência artificial (sandbox regulatório) para as entidades que o requererem \n",
      "e preencherem os requisitos especificados por esta Lei e em regulamentação. \n",
      "Art. 39. As solicitações de autorização para sandboxes \n",
      "regulatórios serão apresentadas ao órgão competente por meio de projeto cujas \n",
      "características contemplem, entre outras: \n",
      "I – inovação no emprego da tecnologia ou no uso alternativo de \n",
      "tecnologias existentes; \n",
      "II – aprimoramentos no sentido de ganhos de eficiência, redução \n",
      "de custos, aumento de segurança, diminuição de riscos, benefícios à sociedade \n",
      "e a consumidores, entre outros; \n",
      "SF/23833.90768-16' metadata={'page': 24, 'source': 'DOC-SF238339076816-20230503.pdf', 'start_index': 0}\n",
      "page_content='VI – proibição de tratamento de determinadas bases de dados. \n",
      "§ 1º As sanções serão aplicadas após procedimento administrativo \n",
      "que possibilite a oportunidade da ampla defesa, de forma gradativa, isolada ou \n",
      "cumulativa, de acordo com as peculiaridades do caso concreto e considerados \n",
      "os seguintes parâmetros e critérios: \n",
      "I – a gravidade e a natureza das infrações e a eventual violação de \n",
      "direitos; \n",
      "II – a boa-fé do infrator; \n",
      "III – a vantagem auferida ou pretendida pelo infrator; \n",
      "IV – a condição econômica do infrator; \n",
      "V – a reincidência; \n",
      "VI – o grau do dano; \n",
      "VII – a cooperação do infrator; \n",
      "VIII – a adoção reiterada e demonstrada de mecanismos e \n",
      "procedimentos internos capazes de minimizar riscos, inclusive a análise de \n",
      "impacto algorítmico e efetiva implementação de código de ética; \n",
      "IX – a adoção de política de boas práticas e governança; \n",
      "X – a pronta adoção de medidas corretivas; \n",
      "XI – a proporcionalidade entre a gravidade da falta e a intensidade \n",
      "da sanção; e \n",
      "XII – a cumulação com outras sanções administrativas \n",
      "eventualmente já aplicadas em definitivo para o mesmo ato ilícito. \n",
      "§ 2º Antes ou durante o processo administrativo do § 1º, poderá a \n",
      "autoridade competente adotar medidas preventivas, incluída multa cominatória, \n",
      "observado o limite total a que se refere o inciso II do caput, quando houver \n",
      "indício ou fundado receio de que o agente de inteligência artificial: \n",
      "I – cause ou possa causar lesão irreparável ou de difícil reparação; \n",
      "ou \n",
      "II – torne ineficaz o resultado final do processo. \n",
      "SF/23833.90768-16' metadata={'page': 23, 'source': 'DOC-SF238339076816-20230503.pdf', 'start_index': 0}\n",
      "page_content='atividades não comuniquem a obra ao público e que o acesso às obras tenha se \n",
      "dado de forma legítima. \n",
      "§ 3º A atividade de mineração de textos e dados que envolva dados \n",
      "pessoais estará sujeita às disposições da Lei nº 13.709, de 14 de agosto de 2018 \n",
      "(Lei Geral de Proteção de Dados Pessoais). \n",
      "Seção IV \n",
      "Base de dados pública de inteligência artificial \n",
      "Art. 43. Cabe à autoridade competente a criação e manutenção de \n",
      "base de dados de inteligência artificial de alto risco, acessível ao público, que \n",
      "contenha os documentos públicos das avaliações de impacto, respeitados os \n",
      "segredos comercial e industrial, nos termos do regulamento. \n",
      "CAPÍTULO IX \n",
      "DAS DISPOSIÇÕES FINAIS \n",
      "Art. 44. Os direitos e princípios expressos nesta Lei não excluem \n",
      "outros previstos no ordenamento jurídico pátrio ou nos tratados internacionais \n",
      "em que a República Federativa do Brasil seja parte. \n",
      "Art. 45. Esta Lei entra em vigor um ano após a sua publicação. \n",
      "JUSTIFICAÇÃO \n",
      "O desenvolvimento e a popularização das tecnologias de \n",
      "inteligência artificial têm revolucionado diversas áreas da atividade humana. \n",
      "Além disso, as previsões apontam que a inteligência artificial (IA) provocará \n",
      "mudanças econômicas e sociais ainda mais profundas num futuro próximo. \n",
      "Reconhecendo a relevância dessa questão, algumas proposições \n",
      "legislativas foram recentemente apresentadas, tanto no Senado Federal quanto \n",
      "na Câmara dos Deputados, com o objetivo de estabelecer balizas para o \n",
      "desenvolvimento e a aplicação de sistemas de inteligência artificial no Brasil. \n",
      "Em particular, destacam-se o Projeto de Lei (PL) nº 5.051, de 2019, de autoria \n",
      "do Senador Styvenson Valentim, que estabelece os princípios para o uso da \n",
      "Inteligência Artificial no Brasil; o PL nº 21, de 2020, do Deputado Federal \n",
      "Eduardo Bismarck, que estabelece fundamentos, princípios e diretrizes para o \n",
      "desenvolvimento e a aplicação da inteligência artificial no Brasil; e dá outras \n",
      "providências, e que foi aprovado pela Câmara dos Deputados; e o PL nº 872, \n",
      "de 2021, do Senador Veneziano Vital do Rêgo, que dispõe sobre o uso da \n",
      "Inteligência Artificial. \n",
      "SF/23833.90768-16' metadata={'page': 26, 'source': 'DOC-SF238339076816-20230503.pdf', 'start_index': 0}\n"
     ]
    }
   ],
   "source": [
    "for c in context:\n",
    "    print(c)"
   ]
  }
 ],
 "metadata": {
  "kernelspec": {
   "display_name": "venv",
   "language": "python",
   "name": "python3"
  },
  "language_info": {
   "codemirror_mode": {
    "name": "ipython",
    "version": 3
   },
   "file_extension": ".py",
   "mimetype": "text/x-python",
   "name": "python",
   "nbconvert_exporter": "python",
   "pygments_lexer": "ipython3",
   "version": "3.12.6"
  }
 },
 "nbformat": 4,
 "nbformat_minor": 2
}
